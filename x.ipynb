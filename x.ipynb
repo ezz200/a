{
 "cells": [
  {
   "cell_type": "code",
   "execution_count": 34,
   "id": "dd130414",
   "metadata": {},
   "outputs": [
    {
     "data": {
      "text/html": [
       "<div>\n",
       "<style scoped>\n",
       "    .dataframe tbody tr th:only-of-type {\n",
       "        vertical-align: middle;\n",
       "    }\n",
       "\n",
       "    .dataframe tbody tr th {\n",
       "        vertical-align: top;\n",
       "    }\n",
       "\n",
       "    .dataframe thead th {\n",
       "        text-align: right;\n",
       "    }\n",
       "</style>\n",
       "<table border=\"1\" class=\"dataframe\">\n",
       "  <thead>\n",
       "    <tr style=\"text-align: right;\">\n",
       "      <th></th>\n",
       "      <th>PatientID</th>\n",
       "      <th>Pregnancies</th>\n",
       "      <th>PlasmaGlucose</th>\n",
       "      <th>DiastolicBloodPressure</th>\n",
       "      <th>TricepsThickness</th>\n",
       "      <th>SerumInsulin</th>\n",
       "      <th>BMI</th>\n",
       "      <th>DiabetesPedigree</th>\n",
       "      <th>Age</th>\n",
       "      <th>Diabetic</th>\n",
       "    </tr>\n",
       "  </thead>\n",
       "  <tbody>\n",
       "    <tr>\n",
       "      <th>0</th>\n",
       "      <td>1354778</td>\n",
       "      <td>0</td>\n",
       "      <td>171</td>\n",
       "      <td>80</td>\n",
       "      <td>34</td>\n",
       "      <td>23</td>\n",
       "      <td>43.509726</td>\n",
       "      <td>1.213191</td>\n",
       "      <td>21</td>\n",
       "      <td>0</td>\n",
       "    </tr>\n",
       "    <tr>\n",
       "      <th>1</th>\n",
       "      <td>1147438</td>\n",
       "      <td>8</td>\n",
       "      <td>92</td>\n",
       "      <td>93</td>\n",
       "      <td>47</td>\n",
       "      <td>36</td>\n",
       "      <td>21.240576</td>\n",
       "      <td>0.158365</td>\n",
       "      <td>23</td>\n",
       "      <td>0</td>\n",
       "    </tr>\n",
       "    <tr>\n",
       "      <th>2</th>\n",
       "      <td>1640031</td>\n",
       "      <td>7</td>\n",
       "      <td>115</td>\n",
       "      <td>47</td>\n",
       "      <td>52</td>\n",
       "      <td>35</td>\n",
       "      <td>41.511523</td>\n",
       "      <td>0.079019</td>\n",
       "      <td>23</td>\n",
       "      <td>0</td>\n",
       "    </tr>\n",
       "    <tr>\n",
       "      <th>3</th>\n",
       "      <td>1883350</td>\n",
       "      <td>9</td>\n",
       "      <td>103</td>\n",
       "      <td>78</td>\n",
       "      <td>25</td>\n",
       "      <td>304</td>\n",
       "      <td>29.582192</td>\n",
       "      <td>1.282870</td>\n",
       "      <td>43</td>\n",
       "      <td>1</td>\n",
       "    </tr>\n",
       "    <tr>\n",
       "      <th>4</th>\n",
       "      <td>1424119</td>\n",
       "      <td>1</td>\n",
       "      <td>85</td>\n",
       "      <td>59</td>\n",
       "      <td>27</td>\n",
       "      <td>35</td>\n",
       "      <td>42.604536</td>\n",
       "      <td>0.549542</td>\n",
       "      <td>22</td>\n",
       "      <td>0</td>\n",
       "    </tr>\n",
       "    <tr>\n",
       "      <th>...</th>\n",
       "      <td>...</td>\n",
       "      <td>...</td>\n",
       "      <td>...</td>\n",
       "      <td>...</td>\n",
       "      <td>...</td>\n",
       "      <td>...</td>\n",
       "      <td>...</td>\n",
       "      <td>...</td>\n",
       "      <td>...</td>\n",
       "      <td>...</td>\n",
       "    </tr>\n",
       "    <tr>\n",
       "      <th>9995</th>\n",
       "      <td>1469198</td>\n",
       "      <td>6</td>\n",
       "      <td>95</td>\n",
       "      <td>85</td>\n",
       "      <td>37</td>\n",
       "      <td>267</td>\n",
       "      <td>18.497542</td>\n",
       "      <td>0.660240</td>\n",
       "      <td>31</td>\n",
       "      <td>0</td>\n",
       "    </tr>\n",
       "    <tr>\n",
       "      <th>9996</th>\n",
       "      <td>1432736</td>\n",
       "      <td>0</td>\n",
       "      <td>55</td>\n",
       "      <td>51</td>\n",
       "      <td>7</td>\n",
       "      <td>50</td>\n",
       "      <td>21.865341</td>\n",
       "      <td>0.086589</td>\n",
       "      <td>34</td>\n",
       "      <td>0</td>\n",
       "    </tr>\n",
       "    <tr>\n",
       "      <th>9997</th>\n",
       "      <td>1410962</td>\n",
       "      <td>5</td>\n",
       "      <td>99</td>\n",
       "      <td>59</td>\n",
       "      <td>47</td>\n",
       "      <td>67</td>\n",
       "      <td>30.774018</td>\n",
       "      <td>2.301594</td>\n",
       "      <td>43</td>\n",
       "      <td>1</td>\n",
       "    </tr>\n",
       "    <tr>\n",
       "      <th>9998</th>\n",
       "      <td>1958653</td>\n",
       "      <td>0</td>\n",
       "      <td>145</td>\n",
       "      <td>67</td>\n",
       "      <td>30</td>\n",
       "      <td>21</td>\n",
       "      <td>18.811861</td>\n",
       "      <td>0.789572</td>\n",
       "      <td>26</td>\n",
       "      <td>0</td>\n",
       "    </tr>\n",
       "    <tr>\n",
       "      <th>9999</th>\n",
       "      <td>1332938</td>\n",
       "      <td>10</td>\n",
       "      <td>100</td>\n",
       "      <td>54</td>\n",
       "      <td>34</td>\n",
       "      <td>27</td>\n",
       "      <td>38.840943</td>\n",
       "      <td>0.175465</td>\n",
       "      <td>23</td>\n",
       "      <td>0</td>\n",
       "    </tr>\n",
       "  </tbody>\n",
       "</table>\n",
       "<p>10000 rows × 10 columns</p>\n",
       "</div>"
      ],
      "text/plain": [
       "      PatientID  Pregnancies  PlasmaGlucose  DiastolicBloodPressure  \\\n",
       "0       1354778            0            171                      80   \n",
       "1       1147438            8             92                      93   \n",
       "2       1640031            7            115                      47   \n",
       "3       1883350            9            103                      78   \n",
       "4       1424119            1             85                      59   \n",
       "...         ...          ...            ...                     ...   \n",
       "9995    1469198            6             95                      85   \n",
       "9996    1432736            0             55                      51   \n",
       "9997    1410962            5             99                      59   \n",
       "9998    1958653            0            145                      67   \n",
       "9999    1332938           10            100                      54   \n",
       "\n",
       "      TricepsThickness  SerumInsulin        BMI  DiabetesPedigree  Age  \\\n",
       "0                   34            23  43.509726          1.213191   21   \n",
       "1                   47            36  21.240576          0.158365   23   \n",
       "2                   52            35  41.511523          0.079019   23   \n",
       "3                   25           304  29.582192          1.282870   43   \n",
       "4                   27            35  42.604536          0.549542   22   \n",
       "...                ...           ...        ...               ...  ...   \n",
       "9995                37           267  18.497542          0.660240   31   \n",
       "9996                 7            50  21.865341          0.086589   34   \n",
       "9997                47            67  30.774018          2.301594   43   \n",
       "9998                30            21  18.811861          0.789572   26   \n",
       "9999                34            27  38.840943          0.175465   23   \n",
       "\n",
       "      Diabetic  \n",
       "0            0  \n",
       "1            0  \n",
       "2            0  \n",
       "3            1  \n",
       "4            0  \n",
       "...        ...  \n",
       "9995         0  \n",
       "9996         0  \n",
       "9997         1  \n",
       "9998         0  \n",
       "9999         0  \n",
       "\n",
       "[10000 rows x 10 columns]"
      ]
     },
     "execution_count": 34,
     "metadata": {},
     "output_type": "execute_result"
    }
   ],
   "source": [
    "import pandas as pd\n",
    "x=pd.read_csv(r'c:\\Users\\C.M™\\Downloads\\diabetes (1) LEC4,5.csv')\n",
    "x"
   ]
  },
  {
   "cell_type": "code",
   "execution_count": 26,
   "id": "21108d76",
   "metadata": {},
   "outputs": [],
   "source": [
    "import pandas as pd\n",
    "A=pd.read_csv(r'c:\\Users\\C.M™\\Downloads\\diabetes (1) LEC4,5.csv')\n",
    "B=A[[\"Age\",\"BMI\",\"DiabetesPedigree\",\"SerumInsulin\",\"TricepsThickness\",\"DiastolicBloodPressure\",\"PlasmaGlucose\",\"Pregnancies\"]]"
   ]
  },
  {
   "cell_type": "code",
   "execution_count": 27,
   "id": "06afe9fc",
   "metadata": {},
   "outputs": [],
   "source": [
    "X = A[[\"Age\",\"BMI\",\"DiabetesPedigree\",\"SerumInsulin\",\n",
    "       \"TricepsThickness\",\"DiastolicBloodPressure\",\n",
    "       \"PlasmaGlucose\",\"Pregnancies\"]]\n",
    "\n",
    "\n",
    "y = A[\"Diabetic\"]\n"
   ]
  },
  {
   "cell_type": "code",
   "execution_count": 28,
   "id": "ded069f2",
   "metadata": {},
   "outputs": [
    {
     "name": "stdout",
     "output_type": "stream",
     "text": [
      "نسبة دقة النموذج: 79.85 %\n"
     ]
    }
   ],
   "source": [
    "from sklearn.model_selection import train_test_split\n",
    "from sklearn.linear_model import LogisticRegression\n",
    "from sklearn.metrics import accuracy_score\n",
    "\n",
    "# تقسيم البيانات لتدريب واختبار\n",
    "X_train, X_test, y_train, y_test = train_test_split(X, y, test_size=0.2, random_state=42)\n",
    "\n",
    "# تدريب نموذج Logistic Regression\n",
    "model = LogisticRegression(max_iter=1000)\n",
    "model.fit(X_train, y_train)\n",
    "\n",
    "# عمل توقعات\n",
    "y_pred = model.predict(X_test)\n",
    "\n",
    "# حساب الدقة\n",
    "accuracy = accuracy_score(y_test, y_pred)\n",
    "print(\"نسبة دقة النموذج:\", round(accuracy * 100, 2), \"%\")\n"
   ]
  },
  {
   "cell_type": "code",
   "execution_count": 29,
   "id": "a4bf123c",
   "metadata": {},
   "outputs": [],
   "source": [
    "# بيانات مريض جديد (غير موجود في الملف)\n",
    "new_patient = [[15,      # Age\n",
    "                30.5,    # BMI\n",
    "                0.7,     # DiabetesPedigree\n",
    "                120,     # SerumInsulin\n",
    "                25,      # TricepsThickness\n",
    "                80,      # DiastolicBloodPressure\n",
    "                150,     # PlasmaGlucose\n",
    "                2]]      # Pregnancies\n"
   ]
  },
  {
   "cell_type": "code",
   "execution_count": 30,
   "id": "e439374a",
   "metadata": {},
   "outputs": [
    {
     "name": "stdout",
     "output_type": "stream",
     "text": [
      "✅ المريض غير مُصاب بالسكري.\n"
     ]
    },
    {
     "name": "stderr",
     "output_type": "stream",
     "text": [
      "C:\\Users\\C.M™\\AppData\\Local\\Packages\\PythonSoftwareFoundation.Python.3.11_qbz5n2kfra8p0\\LocalCache\\local-packages\\Python311\\site-packages\\sklearn\\utils\\validation.py:2749: UserWarning: X does not have valid feature names, but LogisticRegression was fitted with feature names\n",
      "  warnings.warn(\n"
     ]
    }
   ],
   "source": [
    "# توقع الإصابة\n",
    "prediction = model.predict(new_patient)\n",
    "\n",
    "# طباعة النتيجة\n",
    "if prediction[0] == 1:\n",
    "    print(\"⚠️ المريض مُصاب بالسكري.\")\n",
    "else:\n",
    "    print(\"✅ المريض غير مُصاب بالسكري.\")\n"
   ]
  },
  {
   "cell_type": "code",
   "execution_count": 31,
   "id": "c2a4a8a6",
   "metadata": {},
   "outputs": [
    {
     "name": "stdout",
     "output_type": "stream",
     "text": [
      "📊 نسبة احتمال الإصابة بالسكري: 16.3%\n"
     ]
    },
    {
     "name": "stderr",
     "output_type": "stream",
     "text": [
      "C:\\Users\\C.M™\\AppData\\Local\\Packages\\PythonSoftwareFoundation.Python.3.11_qbz5n2kfra8p0\\LocalCache\\local-packages\\Python311\\site-packages\\sklearn\\utils\\validation.py:2749: UserWarning: X does not have valid feature names, but LogisticRegression was fitted with feature names\n",
      "  warnings.warn(\n"
     ]
    }
   ],
   "source": [
    "prob = model.predict_proba(new_patient)\n",
    "print(f\"📊 نسبة احتمال الإصابة بالسكري: {round(prob[0][1] * 100, 2)}%\")\n",
    "\n"
   ]
  },
  {
   "cell_type": "code",
   "execution_count": 32,
   "id": "bccaf653",
   "metadata": {},
   "outputs": [
    {
     "data": {
      "image/png": "[encoded data removed]",
      "text/plain": [
       "<Figure size 640x480 with 1 Axes>"
      ]
     },
     "metadata": {},
     "output_type": "display_data"
    }
   ],
   "source": [
    "import matplotlib.pyplot as plt\n",
    "import seaborn as sns\n",
    "\n",
    "# رسم العلاقة بين الجلوكوز والإصابة\n",
    "sns.boxplot(x='Diabetic', y='PlasmaGlucose', data=A)\n",
    "plt.title(\"تأثير مستوى الجلوكوز على الإصابة بالسكري\")\n",
    "plt.show()\n"
   ]
  },
  {
   "cell_type": "code",
   "execution_count": 21,
   "id": "b237c8a3",
   "metadata": {},
   "outputs": [
    {
     "name": "stdout",
     "output_type": "stream",
     "text": [
      "⚠️ المريض مصاب بالسكري.\n",
      "🔮 سيناريوهات مستقبلية إن لم يتم العلاج:\n",
      "📅 بعد سنة: خطر الأعصاب = 30% | الكلى = 10% | البصر = 5%\n",
      "📅 بعد 3 سنوات: خطر الأعصاب = 55% | الكلى = 35% | البصر = 20%\n",
      "📅 بعد 5 سنوات: خطر الأعصاب = 70% | الكلى = 60% | البصر = 40%\n",
      "\n",
      "💡 ملاحظة: هذه التوقعات تقريبية بناءً على دراسات طبية.\n"
     ]
    }
   ],
   "source": [
    "if prediction == 1:\n",
    "    print(\"⚠️ المريض مصاب بالسكري.\")\n",
    "    print(\"🔮 سيناريوهات مستقبلية إن لم يتم العلاج:\")\n",
    "\n",
    "    print(\"📅 بعد سنة: خطر الأعصاب = 30% | الكلى = 10% | البصر = 5%\")\n",
    "    print(\"📅 بعد 3 سنوات: خطر الأعصاب = 55% | الكلى = 35% | البصر = 20%\")\n",
    "    print(\"📅 بعد 5 سنوات: خطر الأعصاب = 70% | الكلى = 60% | البصر = 40%\")\n",
    "\n",
    "    print(\"\\n💡 ملاحظة: هذه التوقعات تقريبية بناءً على دراسات طبية.\")"
   ]
  }
 ],
 "metadata": {
  "kernelspec": {
   "display_name": "Python 3",
   "language": "python",
   "name": "python3"
  },
  "language_info": {
   "codemirror_mode": {
    "name": "ipython",
    "version": 3
   },
   "file_extension": ".py",
   "mimetype": "text/x-python",
   "name": "python",
   "nbconvert_exporter": "python",
   "pygments_lexer": "ipython3",
   "version": "3.11.9"
  }
 },
 "nbformat": 4,
 "nbformat_minor": 5
}
